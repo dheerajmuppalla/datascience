{
  "nbformat": 4,
  "nbformat_minor": 0,
  "metadata": {
    "colab": {
      "provenance": [],
      "collapsed_sections": []
    },
    "kernelspec": {
      "name": "python3",
      "display_name": "Python 3"
    },
    "language_info": {
      "name": "python"
    }
  },
  "cells": [
    {
      "cell_type": "code",
      "execution_count": 8,
      "metadata": {
        "colab": {
          "base_uri": "https://localhost:8080/"
        },
        "id": "k9ZurSFCC2YW",
        "outputId": "6fa354f1-0651-442d-f11a-450180ea61a2"
      },
      "outputs": [
        {
          "output_type": "stream",
          "name": "stdout",
          "text": [
            "('aman', '222', 777, 400.4)\n"
          ]
        }
      ],
      "source": [
        "#---1---\n",
        "list_1=[\"aman\",\"222\",777,400.4]\n",
        "tup_1=tuple(list_1)\n",
        "print(tup_1)"
      ]
    },
    {
      "cell_type": "code",
      "source": [
        "#---2---\n",
        "info={'Roll no':'CB.EN.U4CSE20241','NAME':'DHEERAJ','SURNAME':'MUPPALLA','DOB':'25-11-2002'}\n",
        "for key,value in info.items():\n",
        "  print(key,':',value)"
      ],
      "metadata": {
        "colab": {
          "base_uri": "https://localhost:8080/"
        },
        "id": "mAZUIuVxDcbg",
        "outputId": "a47ccb60-e946-40bd-8115-98a39fe8c4c5"
      },
      "execution_count": 9,
      "outputs": [
        {
          "output_type": "stream",
          "name": "stdout",
          "text": [
            "Roll no : CB.EN.U4CSE20241\n",
            "NAME : DHEERAJ\n",
            "SURNAME : MUPPALLA\n",
            "DOB : 25-11-2002\n"
          ]
        }
      ]
    },
    {
      "cell_type": "code",
      "source": [
        "#---3---\n",
        "import numpy as np\n",
        "np.random.seed(0)\n",
        "arr1=np.random.randint(0,50,size=(2,5))\n",
        "print(arr1)"
      ],
      "metadata": {
        "colab": {
          "base_uri": "https://localhost:8080/"
        },
        "id": "oce5JXFqElBD",
        "outputId": "ebf8bb48-7199-422f-ada3-32977148c461"
      },
      "execution_count": 10,
      "outputs": [
        {
          "output_type": "stream",
          "name": "stdout",
          "text": [
            "[[44 47  0  3  3]\n",
            " [39  9 19 21 36]]\n"
          ]
        }
      ]
    },
    {
      "cell_type": "code",
      "source": [
        "#---4---\n",
        "VAR=np.random.uniform(0.0,1.0)\n",
        "print(VAR)\n",
        "print(abs(-1234))"
      ],
      "metadata": {
        "colab": {
          "base_uri": "https://localhost:8080/"
        },
        "id": "eJ2O3kAvFG4v",
        "outputId": "3365a547-be7f-4316-c146-01d594739346"
      },
      "execution_count": 11,
      "outputs": [
        {
          "output_type": "stream",
          "name": "stdout",
          "text": [
            "0.2975346065444723\n",
            "1234\n"
          ]
        }
      ]
    },
    {
      "cell_type": "code",
      "source": [
        "#---5---\n",
        "VAR=np.random.randint(20,91)\n",
        "print(VAR)"
      ],
      "metadata": {
        "colab": {
          "base_uri": "https://localhost:8080/"
        },
        "id": "ISvjqGmcG__7",
        "outputId": "a5706e05-453d-4327-8d08-e94f0e117614"
      },
      "execution_count": 12,
      "outputs": [
        {
          "output_type": "stream",
          "name": "stdout",
          "text": [
            "32\n"
          ]
        }
      ]
    },
    {
      "cell_type": "code",
      "source": [
        "#---6---\n",
        "def retlist(list1):\n",
        "  return list1[0:3]\n",
        "list_1=[11,12,13,14,15]\n",
        "newlist=retlist(list_1)\n",
        "print(newlist)\n",
        "np.random.shuffle(newlist)\n",
        "print(\"After Shuffle :\",newlist)\n",
        "print(np.random.choice(list_1))"
      ],
      "metadata": {
        "colab": {
          "base_uri": "https://localhost:8080/"
        },
        "id": "Ac78VGlxG_7K",
        "outputId": "600a0257-3b16-48b1-f428-04058315b4b1"
      },
      "execution_count": 13,
      "outputs": [
        {
          "output_type": "stream",
          "name": "stdout",
          "text": [
            "[11, 12, 13]\n",
            "After Shuffle : [11, 12, 13]\n",
            "11\n"
          ]
        }
      ]
    },
    {
      "cell_type": "code",
      "source": [
        "#---8---\n",
        "def check(x):\n",
        "  if x>0:\n",
        "    print(\"If case,x is positive\")\n",
        "  elif x<0:\n",
        "    print(\"Elif case,x is negetive\")\n",
        "  else:\n",
        "    print(\"Else case,x is zero\")\n",
        "check(5)\n",
        "check(-5)\n",
        "check(0)\n",
        "x=0\n",
        "print(\"-----------While loop-------------\")\n",
        "while(x<10):\n",
        "  x+=1\n",
        "  if x==5:\n",
        "    print(\"Continue when x =5\")\n",
        "    continue\n",
        "  if x==9:\n",
        "    print(\"break when x=9\")\n",
        "    break\n",
        "  print(x)\n",
        "print(\"-----------For loop---------------\")\n",
        "\n",
        "for i in range(10,20):\n",
        "  if i==15:\n",
        "    print(\"Continue when i=15\")\n",
        "    continue\n",
        "  if i==18:\n",
        "    print(\"break when i=18\")\n",
        "    break\n",
        "  print(i)"
      ],
      "metadata": {
        "colab": {
          "base_uri": "https://localhost:8080/"
        },
        "id": "1aQKXh7eLW40",
        "outputId": "9775e544-51eb-4adc-8433-d8b8505ef24d"
      },
      "execution_count": 14,
      "outputs": [
        {
          "output_type": "stream",
          "name": "stdout",
          "text": [
            "If case,x is positive\n",
            "Elif case,x is negetive\n",
            "Else case,x is zero\n",
            "-----------While loop-------------\n",
            "1\n",
            "2\n",
            "3\n",
            "4\n",
            "Continue when x =5\n",
            "6\n",
            "7\n",
            "8\n",
            "break when x=9\n",
            "-----------For loop---------------\n",
            "10\n",
            "11\n",
            "12\n",
            "13\n",
            "14\n",
            "Continue when i=15\n",
            "16\n",
            "17\n",
            "break when i=18\n"
          ]
        }
      ]
    },
    {
      "cell_type": "code",
      "source": [
        "#---9---\n",
        "string=\"The King is Dead, Long Live The King\"\n",
        "print(string)\n",
        "print(string[0])\n",
        "print(string[3:6])\n",
        "print(string[3:])\n",
        "print(string.split())"
      ],
      "metadata": {
        "colab": {
          "base_uri": "https://localhost:8080/"
        },
        "id": "qXjpEOrSNJGI",
        "outputId": "f140b5eb-f5bb-4575-d8fa-8453b9c393cd"
      },
      "execution_count": 15,
      "outputs": [
        {
          "output_type": "stream",
          "name": "stdout",
          "text": [
            "The King is Dead, Long Live The King\n",
            "T\n",
            " Ki\n",
            " King is Dead, Long Live The King\n",
            "['The', 'King', 'is', 'Dead,', 'Long', 'Live', 'The', 'King']\n"
          ]
        }
      ]
    },
    {
      "cell_type": "code",
      "source": [
        "#---10---\n",
        "list_2=[1,4,5,8]\n",
        "arr=np.array(list_2)\n",
        "print(\"The first and second element of arr\",arr[0],arr[1])\n"
      ],
      "metadata": {
        "colab": {
          "base_uri": "https://localhost:8080/"
        },
        "id": "2IxOltZhVUzR",
        "outputId": "3a15d653-f299-4d7c-c9e4-e2fa5f1abbe1"
      },
      "execution_count": 16,
      "outputs": [
        {
          "output_type": "stream",
          "name": "stdout",
          "text": [
            "The first and second element of arr 1 4\n"
          ]
        }
      ]
    },
    {
      "cell_type": "code",
      "source": [
        "#---11---\n",
        "VAR_2=np.array([[1.,2.,3.],[4.,5.,6.]])\n",
        "print(\"The 2D array :\")\n",
        "print(VAR_2)"
      ],
      "metadata": {
        "colab": {
          "base_uri": "https://localhost:8080/"
        },
        "id": "vjVuzgyKWD3Y",
        "outputId": "67b56f36-eac6-499c-a689-708e45f0b346"
      },
      "execution_count": 18,
      "outputs": [
        {
          "output_type": "stream",
          "name": "stdout",
          "text": [
            "The 2D array :\n",
            "[[1. 2. 3.]\n",
            " [4. 5. 6.]]\n"
          ]
        }
      ]
    },
    {
      "cell_type": "code",
      "source": [
        "#---12\n",
        "print(\"Second Row\",VAR_2[1:][:])\n",
        "print(\"Second Col\",VAR_2[:,1])\n",
        "print(\"Length of the array :\",len(VAR_2))"
      ],
      "metadata": {
        "colab": {
          "base_uri": "https://localhost:8080/"
        },
        "id": "H9hdykTQWDyR",
        "outputId": "f5bf8ab9-a1a0-4a61-f8a5-e9ffe54bbf70"
      },
      "execution_count": 19,
      "outputs": [
        {
          "output_type": "stream",
          "name": "stdout",
          "text": [
            "Second Row [[4. 5. 6.]]\n",
            "Second Col [2. 5.]\n",
            "Length of the array : 2\n"
          ]
        }
      ]
    },
    {
      "cell_type": "code",
      "source": [
        "#---13---\n",
        "list_3=[]\n",
        "for i in range(10):\n",
        "  list_3.append(np.random.randint(0,100))\n",
        "oned=np.array(list_3)\n",
        "print(\"1D array :\",oned)\n",
        "twod=oned.reshape(5,2)\n",
        "print(\"2D array :\\n\",twod)\n",
        "print(\"Transpose :\\n\",twod.T)"
      ],
      "metadata": {
        "colab": {
          "base_uri": "https://localhost:8080/"
        },
        "id": "bQHDT0iGYDkO",
        "outputId": "21306bff-3f80-43a0-8964-2e3fe8b9ed24"
      },
      "execution_count": 20,
      "outputs": [
        {
          "output_type": "stream",
          "name": "stdout",
          "text": [
            "1D array : [81 37 25 77 72  9 20 80 69 79]\n",
            "2D array :\n",
            " [[81 37]\n",
            " [25 77]\n",
            " [72  9]\n",
            " [20 80]\n",
            " [69 79]]\n",
            "Transpose :\n",
            " [[81 25 72 20 69]\n",
            " [37 77  9 80 79]]\n"
          ]
        }
      ]
    },
    {
      "cell_type": "code",
      "source": [
        "#---14---\n",
        "l1=[1,2,3]\n",
        "l2=[4,5,6]\n",
        "l3=[7,8,9]\n",
        "newarr=np.array([l1,l2,l3])\n",
        "print(newarr)"
      ],
      "metadata": {
        "colab": {
          "base_uri": "https://localhost:8080/"
        },
        "id": "j_YWid6iZidx",
        "outputId": "ae4c840e-4923-4ae6-e1dd-2c7ba83d5aa8"
      },
      "execution_count": 21,
      "outputs": [
        {
          "output_type": "stream",
          "name": "stdout",
          "text": [
            "[[1 2 3]\n",
            " [4 5 6]\n",
            " [7 8 9]]\n"
          ]
        }
      ]
    },
    {
      "cell_type": "code",
      "source": [
        "#---15---\n",
        "arr_15=np.array([1,2,3])\n",
        "for i in range(len(arr_15)):\n",
        "  arr_15[i]=9\n",
        "print(arr_15)"
      ],
      "metadata": {
        "colab": {
          "base_uri": "https://localhost:8080/"
        },
        "id": "QD2l-5ksbxCY",
        "outputId": "20f62b39-9ac8-47c2-9d96-e64c28f57e08"
      },
      "execution_count": 22,
      "outputs": [
        {
          "output_type": "stream",
          "name": "stdout",
          "text": [
            "[9 9 9]\n"
          ]
        }
      ]
    },
    {
      "cell_type": "code",
      "source": [
        "#---16---\n",
        "arr16=np.array([2,4,5])\n",
        "sum=0\n",
        "for i in arr16:\n",
        "  sum+=i\n",
        "print(sum)"
      ],
      "metadata": {
        "colab": {
          "base_uri": "https://localhost:8080/"
        },
        "id": "bgY4hSv5dFf-",
        "outputId": "6203b465-e5c8-494c-cb7f-0f17d5f694f9"
      },
      "execution_count": 23,
      "outputs": [
        {
          "output_type": "stream",
          "name": "stdout",
          "text": [
            "11\n"
          ]
        }
      ]
    },
    {
      "cell_type": "code",
      "source": [
        "#---17---\n",
        "arr17=np.array([77,74,75])\n",
        "prod=1\n",
        "for i in arr17:\n",
        "  prod*=i\n",
        "print(prod)"
      ],
      "metadata": {
        "colab": {
          "base_uri": "https://localhost:8080/"
        },
        "id": "OORs6PmsdQUB",
        "outputId": "7e89f3ef-f72a-4e06-dd0f-85ee06f69fd5"
      },
      "execution_count": 24,
      "outputs": [
        {
          "output_type": "stream",
          "name": "stdout",
          "text": [
            "427350\n"
          ]
        }
      ]
    },
    {
      "cell_type": "code",
      "source": [
        "#---18---\n",
        "arr18=np.array([2,1,9,1,2,22,1,1,4,55,6,2,56])\n",
        "print(\"Mean : \",np.mean(arr18))\n",
        "print(\"Varaince : \",np.var(arr18))\n",
        "print(\"Max :\",np.max(arr18))\n",
        "print(\"Min : \",np.min(arr18))\n",
        "print(\"Argmin : \",np.argmin(arr18))\n",
        "print(\"Median :\",np.median(arr18))\n",
        "print(\"Argmax : \",np.argmax(arr18))\n",
        "print(\"Standard Deviation : \",np.std(arr18))"
      ],
      "metadata": {
        "colab": {
          "base_uri": "https://localhost:8080/"
        },
        "id": "2bQTTqQndeEB",
        "outputId": "2f761b37-89cf-4410-d6f3-033d38f0cea0"
      },
      "execution_count": 25,
      "outputs": [
        {
          "output_type": "stream",
          "name": "stdout",
          "text": [
            "Mean :  12.461538461538462\n",
            "Varaince :  367.32544378698225\n",
            "Max : 56\n",
            "Min :  1\n",
            "Argmin :  1\n",
            "Median : 2.0\n",
            "Argmax :  12\n",
            "Standard Deviation :  19.165736192147232\n"
          ]
        }
      ]
    },
    {
      "cell_type": "code",
      "source": [
        "#---19---\n",
        "arr19=np.array([1, 1, 7, 5, 5, 5, 4])\n",
        "N_A=np.array(np.unique(arr))\n",
        "N_A.sort()\n",
        "print(N_A)"
      ],
      "metadata": {
        "colab": {
          "base_uri": "https://localhost:8080/"
        },
        "id": "NiVRkMcye46X",
        "outputId": "270c1b27-d0a3-49e0-f8eb-4736fa236836"
      },
      "execution_count": 26,
      "outputs": [
        {
          "output_type": "stream",
          "name": "stdout",
          "text": [
            "[1 4 5 8]\n"
          ]
        }
      ]
    },
    {
      "cell_type": "code",
      "source": [
        "#--20---\n",
        "VAR20=np.array([1,2,3])\n",
        "VAR20_1=np.array([4,5,6])\n",
        "print(np.dot(VAR20,VAR20_1))"
      ],
      "metadata": {
        "colab": {
          "base_uri": "https://localhost:8080/"
        },
        "id": "0rFoJLQNfyht",
        "outputId": "e7a9d725-ff7c-4ed9-e974-0f2d9f340c10"
      },
      "execution_count": 31,
      "outputs": [
        {
          "output_type": "stream",
          "name": "stdout",
          "text": [
            "32\n"
          ]
        }
      ]
    },
    {
      "cell_type": "code",
      "source": [
        "#---21---\n",
        "\n",
        "a=np.array([[2,12],[2,-5]])\n",
        "val,vec=np.linalg.eig(a)\n",
        "print(\"Eigen value :\",val)\n",
        "print(\"Eigen Vector :\\n\",vec)"
      ],
      "metadata": {
        "colab": {
          "base_uri": "https://localhost:8080/"
        },
        "id": "F8x-Dz57gPY5",
        "outputId": "f1cb9a43-3b51-41b1-a88e-725d8598fdc5"
      },
      "execution_count": 32,
      "outputs": [
        {
          "output_type": "stream",
          "name": "stdout",
          "text": [
            "Eigen value : [ 4.52079729 -7.52079729]\n",
            "Eigen Vector :\n",
            " [[ 0.97864042 -0.78338465]\n",
            " [ 0.20557951  0.6215372 ]]\n"
          ]
        }
      ]
    },
    {
      "cell_type": "code",
      "source": [
        "#---22---\n",
        "a1=np.array([11,22,11,31])\n",
        "a2=np.array([25,33,31,28])\n",
        "corrcoef=np.corrcoef(a1,a2)\n",
        "print(corrcoef)"
      ],
      "metadata": {
        "colab": {
          "base_uri": "https://localhost:8080/"
        },
        "id": "JGku38T0heU_",
        "outputId": "ec2b1c5f-dba8-407d-98a9-2b461b3e727a"
      },
      "execution_count": 33,
      "outputs": [
        {
          "output_type": "stream",
          "name": "stdout",
          "text": [
            "[[1.         0.15997968]\n",
            " [0.15997968 1.        ]]\n"
          ]
        }
      ]
    }
  ]
}